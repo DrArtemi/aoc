{
 "cells": [
  {
   "cell_type": "code",
   "execution_count": null,
   "metadata": {},
   "outputs": [],
   "source": [
    "import numpy as np\n",
    "with open(\"data.txt\", \"r\") as f:\n",
    "    lines = f.readlines()\n",
    "idx = 0\n",
    "parsed_lines = [[]]\n",
    "for line in lines:\n",
    "    if line == '\\n':\n",
    "        idx += 1\n",
    "        parsed_lines.append([])\n",
    "    else:\n",
    "        parsed_lines[idx].append(line.rstrip().split(' '))\n",
    "numbers = parsed_lines[0][0][0].split(',')\n",
    "numbers = np.array([int(n) for n in numbers])\n",
    "boards = parsed_lines[1:]\n",
    "boards = np.array([[[int(n) for n in line if n != ''] for line in board] for board in boards])"
   ]
  },
  {
   "cell_type": "markdown",
   "metadata": {},
   "source": [
    "# PART 1"
   ]
  },
  {
   "cell_type": "code",
   "execution_count": null,
   "metadata": {},
   "outputs": [],
   "source": [
    "winning_board = None\n",
    "for i in range(1, len(numbers) + 1):\n",
    "    for board in boards:\n",
    "        truth = np.in1d(board, numbers[:i]).reshape(board.shape)\n",
    "        if any(np.all(truth, axis=1)) or any(np.all(truth, axis=0)):\n",
    "            winning_board = board.flatten()\n",
    "            break\n",
    "    if winning_board is not None:\n",
    "        break\n",
    "w_truth = np.in1d(winning_board, numbers[:i])\n",
    "sum_board = sum([winning_board[i] for i in range(len(w_truth)) if not w_truth[i]])\n",
    "sum_board * numbers[i-1]"
   ]
  },
  {
   "cell_type": "markdown",
   "metadata": {},
   "source": [
    "# PART 2"
   ]
  },
  {
   "cell_type": "code",
   "execution_count": null,
   "metadata": {},
   "outputs": [],
   "source": [
    "winning_board = None\n",
    "tmp_boards = boards.copy()\n",
    "for i in range(1, len(numbers) + 1):\n",
    "    winners = []\n",
    "    for idx, board in enumerate(tmp_boards):\n",
    "        truth = np.in1d(board, numbers[:i]).reshape(board.shape)\n",
    "        if any(np.all(truth, axis=1)) or any(np.all(truth, axis=0)):\n",
    "            winning_board = board.flatten()\n",
    "            winners.append(idx)\n",
    "    if winning_board is not None:\n",
    "        if len(tmp_boards) <= 1:\n",
    "            break\n",
    "        tmp_boards = np.delete(tmp_boards, winners, 0)\n",
    "        winning_board = None\n",
    "w_truth = np.in1d(winning_board, numbers[:i])\n",
    "sum_board = sum([winning_board[i] for i in range(len(w_truth)) if not w_truth[i]])\n",
    "sum_board * numbers[i-1]"
   ]
  }
 ],
 "metadata": {
  "interpreter": {
   "hash": "3105bbf11024983e9c456d3f7307dbb4aeb4269e967182a6c2436aadadbe92ba"
  },
  "kernelspec": {
   "display_name": "Python 3.9.7 64-bit ('kaggle': conda)",
   "name": "python3"
  },
  "language_info": {
   "codemirror_mode": {
    "name": "ipython",
    "version": 3
   },
   "file_extension": ".py",
   "mimetype": "text/x-python",
   "name": "python",
   "nbconvert_exporter": "python",
   "pygments_lexer": "ipython3",
   "version": "3.9.7"
  },
  "orig_nbformat": 4
 },
 "nbformat": 4,
 "nbformat_minor": 2
}
