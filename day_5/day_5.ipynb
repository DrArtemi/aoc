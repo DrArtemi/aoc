{
 "cells": [
  {
   "cell_type": "code",
   "execution_count": null,
   "metadata": {},
   "outputs": [],
   "source": [
    "import numpy as np\n",
    "with open(\"data.txt\", \"r\") as f:\n",
    "    lines = f.readlines()\n",
    "\n",
    "parsed_lines = np.array([[l.split(\" -> \")[0].split(','), l.split(\" -> \")[1].rstrip().split(',')] for l in lines]).astype(int)"
   ]
  },
  {
   "cell_type": "markdown",
   "metadata": {},
   "source": [
    "# PART 1"
   ]
  },
  {
   "cell_type": "code",
   "execution_count": null,
   "metadata": {},
   "outputs": [],
   "source": [
    "max_shape = np.max(parsed_lines)\n",
    "vent_map = np.zeros((max_shape + 1, max_shape + 1))\n",
    "vent_map.shape\n",
    "\n",
    "for line in parsed_lines:\n",
    "    if line[0][0] == line[1][0]:\n",
    "        min_v = min(line[0][1], line[1][1])\n",
    "        max_v = max(line[0][1], line[1][1])\n",
    "        vent_map[np.arange(min_v, max_v + 1), line[0][0]] += 1\n",
    "    elif line[0][1] == line[1][1]:\n",
    "        min_v = min(line[0][0], line[1][0])\n",
    "        max_v = max(line[0][0], line[1][0])\n",
    "        vent_map[line[0][1], np.arange(min_v, max_v + 1)] += 1\n",
    "np.count_nonzero(vent_map >= 2)"
   ]
  },
  {
   "cell_type": "markdown",
   "metadata": {},
   "source": [
    "# PART 2"
   ]
  },
  {
   "cell_type": "code",
   "execution_count": null,
   "metadata": {},
   "outputs": [],
   "source": [
    "max_shape = np.max(parsed_lines)\n",
    "vent_map = np.zeros((max_shape + 1, max_shape + 1))\n",
    "vent_map.shape\n",
    "\n",
    "for line in parsed_lines:\n",
    "    min_y_v = min(line[0][1], line[1][1])\n",
    "    max_y_v = max(line[0][1], line[1][1])\n",
    "    min_x_v = min(line[0][0], line[1][0])\n",
    "    max_x_v = max(line[0][0], line[1][0])\n",
    "    if line[0][0] == line[1][0]:\n",
    "        vent_map[np.arange(min_y_v, max_y_v + 1), line[0][0]] += 1\n",
    "    elif line[0][1] == line[1][1]:\n",
    "        vent_map[line[0][1], np.arange(min_x_v, max_x_v + 1)] += 1\n",
    "    else:\n",
    "        y_idx = np.arange(min_y_v, max_y_v + 1)\n",
    "        if line[0][1] < line[1][1]:\n",
    "            y_idx = np.flip(y_idx)\n",
    "        x_idx = np.arange(min_x_v, max_x_v + 1)\n",
    "        if line[0][0] < line[1][0]:\n",
    "            x_idx = np.flip(x_idx)\n",
    "        vent_map[y_idx, x_idx] += 1\n",
    "np.count_nonzero(vent_map >= 2)"
   ]
  }
 ],
 "metadata": {
  "interpreter": {
   "hash": "3105bbf11024983e9c456d3f7307dbb4aeb4269e967182a6c2436aadadbe92ba"
  },
  "kernelspec": {
   "display_name": "Python 3.9.7 64-bit ('kaggle': conda)",
   "name": "python3"
  },
  "language_info": {
   "codemirror_mode": {
    "name": "ipython",
    "version": 3
   },
   "file_extension": ".py",
   "mimetype": "text/x-python",
   "name": "python",
   "nbconvert_exporter": "python",
   "pygments_lexer": "ipython3",
   "version": "3.9.7"
  },
  "orig_nbformat": 4
 },
 "nbformat": 4,
 "nbformat_minor": 2
}
