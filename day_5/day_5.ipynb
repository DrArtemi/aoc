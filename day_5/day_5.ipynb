{
 "cells": [
  {
   "cell_type": "code",
   "execution_count": null,
   "metadata": {},
   "outputs": [],
   "source": [
    "import numpy as np\n",
    "with open(\"data.txt\", \"r\") as f:\n",
    "    lines = f.readlines()\n",
    "\n",
    "parsed_lines = np.array([[l.split(\" -> \")[0].split(','), l.split(\" -> \")[1].rstrip().split(',')] for l in lines]).astype(int)"
   ]
  },
  {
   "cell_type": "markdown",
   "metadata": {},
   "source": [
    "# PART 1"
   ]
  },
  {
   "cell_type": "code",
   "execution_count": null,
   "metadata": {},
   "outputs": [],
   "source": [
    "max_shape = np.max(parsed_lines)\n",
    "vent_map = np.zeros((max_shape + 1, max_shape + 1))\n",
    "vent_map.shape\n",
    "\n",
    "for line in parsed_lines:\n",
    "    x_range = np.arange(min(line[0][0], line[1][0]), max(line[0][0], line[1][0]) + 1)\n",
    "    y_range = np.arange(min(line[0][1], line[1][1]), max(line[0][1], line[1][1]) + 1)\n",
    "    if line[0][0] == line[1][0]:\n",
    "        vent_map[y_range, line[0][0]] += 1\n",
    "    elif line[0][1] == line[1][1]:\n",
    "        vent_map[line[0][1], x_range] += 1\n",
    "np.count_nonzero(vent_map >= 2)"
   ]
  },
  {
   "cell_type": "markdown",
   "metadata": {},
   "source": [
    "# PART 2"
   ]
  },
  {
   "cell_type": "code",
   "execution_count": null,
   "metadata": {},
   "outputs": [],
   "source": [
    "max_shape = np.max(parsed_lines)\n",
    "vent_map = np.zeros((max_shape + 1, max_shape + 1))\n",
    "vent_map.shape\n",
    "\n",
    "for line in parsed_lines:\n",
    "    x_range = np.arange(min(line[0][0], line[1][0]), max(line[0][0], line[1][0]) + 1)\n",
    "    y_range = np.arange(min(line[0][1], line[1][1]), max(line[0][1], line[1][1]) + 1)\n",
    "    if line[0][0] == line[1][0]:\n",
    "        vent_map[y_range, line[0][0]] += 1\n",
    "    elif line[0][1] == line[1][1]:\n",
    "        vent_map[line[0][1], x_range] += 1\n",
    "    else:\n",
    "        if line[0][1] < line[1][1]:\n",
    "            y_range = np.flip(y_range)\n",
    "        if line[0][0] < line[1][0]:\n",
    "            x_range = np.flip(x_range)\n",
    "        vent_map[y_range, x_range] += 1\n",
    "np.count_nonzero(vent_map >= 2)"
   ]
  }
 ],
 "metadata": {
  "interpreter": {
   "hash": "3105bbf11024983e9c456d3f7307dbb4aeb4269e967182a6c2436aadadbe92ba"
  },
  "kernelspec": {
   "display_name": "Python 3.9.7 64-bit ('kaggle': conda)",
   "name": "python3"
  },
  "language_info": {
   "codemirror_mode": {
    "name": "ipython",
    "version": 3
   },
   "file_extension": ".py",
   "mimetype": "text/x-python",
   "name": "python",
   "nbconvert_exporter": "python",
   "pygments_lexer": "ipython3",
   "version": "3.9.7"
  },
  "orig_nbformat": 4
 },
 "nbformat": 4,
 "nbformat_minor": 2
}
