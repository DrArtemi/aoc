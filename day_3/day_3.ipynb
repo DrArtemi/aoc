{
 "cells": [
  {
   "cell_type": "code",
   "execution_count": null,
   "metadata": {},
   "outputs": [],
   "source": [
    "import pandas as pd\n",
    "\n",
    "data = pd.read_csv(\"data.txt\", header=None, dtype=object)\n",
    "parsed_data = data[0].str.split('', expand=True).iloc[:, 1:-1].astype(int)"
   ]
  },
  {
   "cell_type": "markdown",
   "metadata": {},
   "source": [
    "# PART 1"
   ]
  },
  {
   "cell_type": "code",
   "execution_count": null,
   "metadata": {},
   "outputs": [],
   "source": [
    "gamma_df = parsed_data.sum(axis=0) > parsed_data.count() / 2\n",
    "gamma_binary = ''.join(gamma_df.astype(int).astype(str))\n",
    "epsilon_binary = ''.join((~gamma_df).astype(int).astype(str))\n",
    "int(gamma_binary, 2) * int(epsilon_binary, 2)"
   ]
  },
  {
   "cell_type": "markdown",
   "metadata": {},
   "source": [
    "# PART 2"
   ]
  },
  {
   "cell_type": "code",
   "execution_count": null,
   "metadata": {},
   "outputs": [],
   "source": [
    "ox_max_cols = max(parsed_data.count())\n",
    "co_max_cols = max(parsed_data.count())\n",
    "ox_indexes = [i for i in range(ox_max_cols)]\n",
    "co_indexes = [i for i in range(co_max_cols)]\n",
    "for i, col in parsed_data.iteritems():\n",
    "    if ox_max_cols > 1:\n",
    "        ox_tmp_col = col[ox_indexes]\n",
    "        ox_indexes = ox_tmp_col.index[ox_tmp_col == int(ox_tmp_col.sum(axis=0) >= ox_max_cols / 2)].tolist()\n",
    "        ox_max_cols = len(ox_indexes)\n",
    "    if co_max_cols > 1:\n",
    "        co_tmp_col = col[co_indexes]\n",
    "        co_indexes = co_tmp_col.index[co_tmp_col == int(co_tmp_col.sum(axis=0) < co_max_cols / 2)].tolist()\n",
    "        co_max_cols = len(co_indexes)\n",
    "    if ox_max_cols <= 1 and co_max_cols <= 1:\n",
    "        break\n",
    "oxygen_generator_rating = parsed_data.iloc[ox_indexes].astype(str).agg(''.join, axis=1).values[0]\n",
    "co2_scrubber_rating = parsed_data.iloc[co_indexes].astype(str).agg(''.join, axis=1).values[0]\n",
    "int(oxygen_generator_rating, 2) * int(co2_scrubber_rating, 2)"
   ]
  }
 ],
 "metadata": {
  "interpreter": {
   "hash": "3105bbf11024983e9c456d3f7307dbb4aeb4269e967182a6c2436aadadbe92ba"
  },
  "kernelspec": {
   "display_name": "Python 3.9.7 64-bit ('kaggle': conda)",
   "name": "python3"
  },
  "language_info": {
   "codemirror_mode": {
    "name": "ipython",
    "version": 3
   },
   "file_extension": ".py",
   "mimetype": "text/x-python",
   "name": "python",
   "nbconvert_exporter": "python",
   "pygments_lexer": "ipython3",
   "version": "3.9.7"
  },
  "orig_nbformat": 4
 },
 "nbformat": 4,
 "nbformat_minor": 2
}
